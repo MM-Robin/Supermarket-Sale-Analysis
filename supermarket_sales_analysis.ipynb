{
 "cells": [
  {
   "cell_type": "markdown",
   "metadata": {},
   "source": [
    "### Load the dataset \"supermarket_sales.csv\""
   ]
  },
  {
   "cell_type": "code",
   "execution_count": 1,
   "metadata": {},
   "outputs": [
    {
     "name": "stdout",
     "output_type": "stream",
     "text": [
      "    Invoice ID Branch       City Customer type  Gender  \\\n",
      "0  750-67-8428   Alex     Yangon        Member  Female   \n",
      "1  226-31-3081   Giza  Naypyitaw        Normal  Female   \n",
      "2  631-41-3108   Alex     Yangon        Normal  Female   \n",
      "3  123-19-1176   Alex     Yangon        Member  Female   \n",
      "4  373-73-7910   Alex     Yangon        Member  Female   \n",
      "\n",
      "             Product line  Unit price  Quantity   Tax 5%     Sales       Date  \\\n",
      "0       Health and beauty       74.69         7  26.1415  548.9715   1/5/2019   \n",
      "1  Electronic accessories       15.28         5   3.8200   80.2200   3/8/2019   \n",
      "2      Home and lifestyle       46.33         7  16.2155  340.5255   3/3/2019   \n",
      "3       Health and beauty       58.22         8  23.2880  489.0480  1/27/2019   \n",
      "4       Sports and travel       86.31         7  30.2085  634.3785   2/8/2019   \n",
      "\n",
      "          Time      Payment    cogs  gross margin percentage  gross income  \\\n",
      "0   1:08:00 PM      Ewallet  522.83                 4.761905       26.1415   \n",
      "1  10:29:00 AM         Cash   76.40                 4.761905        3.8200   \n",
      "2   1:23:00 PM  Credit card  324.31                 4.761905       16.2155   \n",
      "3   8:33:00 PM      Ewallet  465.76                 4.761905       23.2880   \n",
      "4  10:37:00 AM      Ewallet  604.17                 4.761905       30.2085   \n",
      "\n",
      "   Rating  \n",
      "0     9.1  \n",
      "1     9.6  \n",
      "2     7.4  \n",
      "3     8.4  \n",
      "4     5.3  \n"
     ]
    }
   ],
   "source": [
    "import pandas as pd\n",
    "\n",
    "#load the dataset\n",
    "data = pd.read_csv(\"data/supermarket_sales.csv\")\n",
    "\n",
    "#display the first few rows using .head()\n",
    "print(data.head())\n"
   ]
  },
  {
   "cell_type": "markdown",
   "metadata": {},
   "source": [
    "## verification of csv using .shape"
   ]
  },
  {
   "cell_type": "code",
   "execution_count": 2,
   "metadata": {},
   "outputs": [
    {
     "name": "stdout",
     "output_type": "stream",
     "text": [
      "Shape of dataset: (1000, 17)\n"
     ]
    }
   ],
   "source": [
    "print(\"Shape of dataset:\", data.shape)"
   ]
  },
  {
   "cell_type": "markdown",
   "metadata": {},
   "source": [
    "### Basic exploration"
   ]
  },
  {
   "cell_type": "code",
   "execution_count": 3,
   "metadata": {},
   "outputs": [
    {
     "name": "stdout",
     "output_type": "stream",
     "text": [
      "<class 'pandas.core.frame.DataFrame'>\n",
      "RangeIndex: 1000 entries, 0 to 999\n",
      "Data columns (total 17 columns):\n",
      " #   Column                   Non-Null Count  Dtype  \n",
      "---  ------                   --------------  -----  \n",
      " 0   Invoice ID               1000 non-null   object \n",
      " 1   Branch                   1000 non-null   object \n",
      " 2   City                     1000 non-null   object \n",
      " 3   Customer type            1000 non-null   object \n",
      " 4   Gender                   1000 non-null   object \n",
      " 5   Product line             1000 non-null   object \n",
      " 6   Unit price               1000 non-null   float64\n",
      " 7   Quantity                 1000 non-null   int64  \n",
      " 8   Tax 5%                   1000 non-null   float64\n",
      " 9   Sales                    1000 non-null   float64\n",
      " 10  Date                     1000 non-null   object \n",
      " 11  Time                     1000 non-null   object \n",
      " 12  Payment                  1000 non-null   object \n",
      " 13  cogs                     1000 non-null   float64\n",
      " 14  gross margin percentage  1000 non-null   float64\n",
      " 15  gross income             1000 non-null   float64\n",
      " 16  Rating                   1000 non-null   float64\n",
      "dtypes: float64(7), int64(1), object(9)\n",
      "memory usage: 132.9+ KB\n",
      "None\n",
      "        Unit price     Quantity       Tax 5%        Sales        cogs  \\\n",
      "count  1000.000000  1000.000000  1000.000000  1000.000000  1000.00000   \n",
      "mean     55.672130     5.510000    15.379369   322.966749   307.58738   \n",
      "std      26.494628     2.923431    11.708825   245.885335   234.17651   \n",
      "min      10.080000     1.000000     0.508500    10.678500    10.17000   \n",
      "25%      32.875000     3.000000     5.924875   124.422375   118.49750   \n",
      "50%      55.230000     5.000000    12.088000   253.848000   241.76000   \n",
      "75%      77.935000     8.000000    22.445250   471.350250   448.90500   \n",
      "max      99.960000    10.000000    49.650000  1042.650000   993.00000   \n",
      "\n",
      "       gross margin percentage  gross income      Rating  \n",
      "count             1.000000e+03   1000.000000  1000.00000  \n",
      "mean              4.761905e+00     15.379369     6.97270  \n",
      "std               6.131498e-14     11.708825     1.71858  \n",
      "min               4.761905e+00      0.508500     4.00000  \n",
      "25%               4.761905e+00      5.924875     5.50000  \n",
      "50%               4.761905e+00     12.088000     7.00000  \n",
      "75%               4.761905e+00     22.445250     8.50000  \n",
      "max               4.761905e+00     49.650000    10.00000  \n"
     ]
    }
   ],
   "source": [
    "# understand the data\n",
    "print(data.info())\n",
    "print(data.describe())"
   ]
  },
  {
   "cell_type": "code",
   "execution_count": 4,
   "metadata": {},
   "outputs": [
    {
     "name": "stdout",
     "output_type": "stream",
     "text": [
      "missing values: Invoice ID                 0\n",
      "Branch                     0\n",
      "City                       0\n",
      "Customer type              0\n",
      "Gender                     0\n",
      "Product line               0\n",
      "Unit price                 0\n",
      "Quantity                   0\n",
      "Tax 5%                     0\n",
      "Sales                      0\n",
      "Date                       0\n",
      "Time                       0\n",
      "Payment                    0\n",
      "cogs                       0\n",
      "gross margin percentage    0\n",
      "gross income               0\n",
      "Rating                     0\n",
      "dtype: int64\n"
     ]
    }
   ],
   "source": [
    "# check the missing values using .isnull()\n",
    "print(\"missing values:\", data.isnull().sum())"
   ]
  },
  {
   "cell_type": "code",
   "execution_count": 5,
   "metadata": {},
   "outputs": [
    {
     "name": "stdout",
     "output_type": "stream",
     "text": [
      "Duplicate Rows: 0\n"
     ]
    }
   ],
   "source": [
    "# check for duplicate rows using '.duplicateted()'\n",
    "print(\"Duplicate Rows:\", data.duplicated().sum())"
   ]
  },
  {
   "cell_type": "markdown",
   "metadata": {},
   "source": [
    "### Perform Exploratory Data Analysis"
   ]
  },
  {
   "cell_type": "markdown",
   "metadata": {},
   "source": [
    "#### 1. General Analysis"
   ]
  },
  {
   "cell_type": "code",
   "execution_count": 6,
   "metadata": {},
   "outputs": [
    {
     "name": "stdout",
     "output_type": "stream",
     "text": [
      "Total sales: 322966.749\n",
      "Average Rating: 6.9727\n"
     ]
    }
   ],
   "source": [
    "# General sales analysis\n",
    "\n",
    "#total sales\n",
    "total_sales = data[\"Sales\"].sum()\n",
    "print(\"Total sales:\", total_sales)\n",
    "\n",
    "#Average Rating\n",
    "avg_rating = data[\"Rating\"].mean()\n",
    "print(\"Average Rating:\", avg_rating)\n",
    "\n"
   ]
  },
  {
   "cell_type": "markdown",
   "metadata": {},
   "source": [
    "#### 2. Branch and City Analysis"
   ]
  },
  {
   "cell_type": "code",
   "execution_count": 7,
   "metadata": {},
   "outputs": [
    {
     "name": "stdout",
     "output_type": "stream",
     "text": [
      "Branch\n",
      "Alex     106200.3705\n",
      "Cairo    106197.6720\n",
      "Giza     110568.7065\n",
      "Name: Sales, dtype: float64\n"
     ]
    }
   ],
   "source": [
    "# sales by branch using '.groupby'\n",
    "sales_by_branch = data.groupby(\"Branch\")[\"Sales\"].sum()\n",
    "print(sales_by_branch)"
   ]
  },
  {
   "cell_type": "code",
   "execution_count": 8,
   "metadata": {},
   "outputs": [
    {
     "name": "stdout",
     "output_type": "stream",
     "text": [
      "        City        Sales\n",
      "0  Naypyitaw  110568.7065\n",
      "1     Yangon  106200.3705\n",
      "2   Mandalay  106197.6720\n"
     ]
    }
   ],
   "source": [
    "# sales by city using '.groupby'\n",
    "sales_by_city = data.groupby(\"City\")[\"Sales\"].sum()\n",
    "sales_by_city_sorted = sales_by_city.sort_values(ascending=False).reset_index()\n",
    "print(sales_by_city_sorted)"
   ]
  },
  {
   "cell_type": "markdown",
   "metadata": {},
   "source": [
    "#### 3. Product Line Performance"
   ]
  },
  {
   "cell_type": "code",
   "execution_count": 9,
   "metadata": {},
   "outputs": [
    {
     "name": "stdout",
     "output_type": "stream",
     "text": [
      "             Product line       Sales\n",
      "0      Food and beverages  56144.8440\n",
      "1       Sports and travel  55122.8265\n",
      "2  Electronic accessories  54337.5315\n",
      "3     Fashion accessories  54305.8950\n",
      "4      Home and lifestyle  53861.9130\n",
      "5       Health and beauty  49193.7390\n"
     ]
    }
   ],
   "source": [
    "#total sales by product line or category of product\n",
    "sales_by_product_line = data.groupby(\"Product line\")[\"Sales\"].sum()\n",
    "\n",
    "# Reset the index to turn the product line into a column and sort by sales\n",
    "sales_by_product_line_sorted = sales_by_product_line.sort_values(ascending=False).reset_index()\n",
    "\n",
    "# Print the result\n",
    "print(sales_by_product_line_sorted)"
   ]
  },
  {
   "cell_type": "markdown",
   "metadata": {},
   "source": [
    "### Visualization"
   ]
  },
  {
   "cell_type": "markdown",
   "metadata": {},
   "source": [
    "#### Bar Plot: Sales By Product Line"
   ]
  },
  {
   "cell_type": "code",
   "execution_count": 10,
   "metadata": {},
   "outputs": [
    {
     "data": {
      "image/png": "[encoded data removed]",
      "text/plain": [
       "<Figure size 640x480 with 1 Axes>"
      ]
     },
     "metadata": {},
     "output_type": "display_data"
    }
   ],
   "source": [
    "import matplotlib.pyplot as plt\n",
    "import seaborn as sns\n",
    " \n",
    "# plot sales by product line\n",
    "sales_by_product_line.plot(kind=\"bar\", title=\"Sales by Product line\",  color = \"grey\")\n",
    "plt.ylabel(\"Total Sales\")\n",
    " \n",
    "# saving the chart as png\n",
    "plt.title(\"Seaborn Barplot\")\n",
    "plt.savefig(\"visuals/sales by product line_barplot.png\")  # Save as PNG\n",
    "plt.show()\n",
    "plt.close()"
   ]
  },
  {
   "cell_type": "markdown",
   "metadata": {},
   "source": [
    "#### Pie Chart: Payment Method Distribution:"
   ]
  },
  {
   "cell_type": "code",
   "execution_count": 13,
   "metadata": {},
   "outputs": [
    {
     "data": {
      "image/png": "[encoded data removed]",
      "text/plain": [
       "<Figure size 640x480 with 1 Axes>"
      ]
     },
     "metadata": {},
     "output_type": "display_data"
    }
   ],
   "source": [
    "#counting different payment method\n",
    "payment_counts = data[\"Payment\"].value_counts()\n",
    " \n",
    "# Pie chart\n",
    "payment_counts.plot(kind=\"pie\", autopct=\"%1.1f%%\", title=\"Payment Method Distribution\")\n",
    "plt.ylabel(\"\")\n",
    "\n",
    "# saving the chart as png\n",
    "plt.title(\"payment_counts\")\n",
    "plt.tight_layout()\n",
    "plt.savefig(\"visuals/chart Payment Method Distribution.png\")  # Save as PNG\n",
    "plt.show()"
   ]
  }
 ],
 "metadata": {
  "kernelspec": {
   "display_name": "Python 3",
   "language": "python",
   "name": "python3"
  },
  "language_info": {
   "codemirror_mode": {
    "name": "ipython",
    "version": 3
   },
   "file_extension": ".py",
   "mimetype": "text/x-python",
   "name": "python",
   "nbconvert_exporter": "python",
   "pygments_lexer": "ipython3",
   "version": "3.11.4"
  }
 },
 "nbformat": 4,
 "nbformat_minor": 2
}
